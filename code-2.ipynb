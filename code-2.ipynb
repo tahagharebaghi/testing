{
 "cells": [
  {
   "cell_type": "code",
   "execution_count": null,
   "id": "3c353ac4",
   "metadata": {},
   "outputs": [
    {
     "name": "stdout",
     "output_type": "stream",
     "text": [
      "this is second code\n"
     ]
    }
   ],
   "source": [
    "print(\"this is second code\")\n",
    "print(\"this is second code\")\n",
<<<<<<< HEAD
    "print(\"this is dev branch\")\n",
    "print('I will save these changes')"
=======
    "print(\"would it be merged and added?\")"
>>>>>>> only2
   ]
  }
 ],
 "metadata": {
  "kernelspec": {
   "display_name": "base",
   "language": "python",
   "name": "python3"
  },
  "language_info": {
   "codemirror_mode": {
    "name": "ipython",
    "version": 3
   },
   "file_extension": ".py",
   "mimetype": "text/x-python",
   "name": "python",
   "nbconvert_exporter": "python",
   "pygments_lexer": "ipython3",
   "version": "3.12.7"
  }
 },
 "nbformat": 4,
 "nbformat_minor": 5
}
