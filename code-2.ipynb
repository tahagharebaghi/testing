{
 "cells": [
  {
   "cell_type": "code",
   "execution_count": 1,
   "id": "3c353ac4",
   "metadata": {},
   "outputs": [
    {
     "name": "stdout",
     "output_type": "stream",
     "text": [
      "this is second code\n",
      "this is second code\n",
      "would it be merged and added?\n",
      "this is for branch2\n"
     ]
    }
   ],
   "source": [
    "print(\"this is second code\")\n",
    "print(\"this is second code\")\n",
    "print(\"would it be merged and added?\")\n",
    "print(\"this is for branch2\")"
   ]
  }
 ],
 "metadata": {
  "kernelspec": {
   "display_name": "base",
   "language": "python",
   "name": "python3"
  },
  "language_info": {
   "codemirror_mode": {
    "name": "ipython",
    "version": 3
   },
   "file_extension": ".py",
   "mimetype": "text/x-python",
   "name": "python",
   "nbconvert_exporter": "python",
   "pygments_lexer": "ipython3",
   "version": "3.12.7"
  }
 },
 "nbformat": 4,
 "nbformat_minor": 5
}
